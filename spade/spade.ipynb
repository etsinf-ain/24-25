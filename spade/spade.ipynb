{
 "cells": [
  {
   "cell_type": "markdown",
   "metadata": {
    "id": "MeIO_-F-02s_"
   },
   "source": [
    "# SPADE\n",
    "SPADE *(Smart Python Agent Development Platform)* es una plataforma para el desarrollo de sistemas multiagante escrita en Python y basada en el protocolo [XMPP](http://www.xmpp.org/) para el intercambio de mensajes.\n",
    "\n",
    "\n",
    "\n",
    "La documentación del proyecto y las instrucciones para su descarga están disponibles en\n",
    "\n",
    "https://spade-mas.readthedocs.io/\n"
   ]
  },
  {
   "cell_type": "markdown",
   "metadata": {
    "id": "Qq9eHrPMACmp"
   },
   "source": [
    "# Instalación y preparación\n",
    "\n",
    "La forma más rápida de instalar SPADE es usando `pip`."
   ]
  },
  {
   "cell_type": "code",
   "execution_count": null,
   "metadata": {
    "colab": {
     "base_uri": "https://localhost:8080/"
    },
    "id": "0jpVMTf9BDGn",
    "outputId": "f529e18b-deaf-4039-8acf-f31334dd9ab7"
   },
   "outputs": [],
   "source": [
    "!pip install spade"
   ]
  },
  {
   "cell_type": "markdown",
   "metadata": {
    "id": "2MPeBv-MBGdY"
   },
   "source": [
    "Además de hacerlo aquí (para la ejecución de los agentes), tendrás que instalarlo en tu máquina para poder ejecutar el servidor XMPP (no se puede hacer desde Google Collab).\n",
    "\n",
    "Arranca el servidor con `spade run` y apunta la IP para registrar tus agentes en el servidor cuando los crees.\n",
    "\n"
   ]
  },
  {
   "cell_type": "markdown",
   "metadata": {
    "id": "EAVa38R5Ca33"
   },
   "source": [
    "## Creación de un agente simple\n",
    "\n",
    "Tus agentes deben heredar de la clase `spade.agent.Agent`\n",
    "\n",
    "Se ejecutan de forma asíncrona a través de [Async IO](https://realpython.com/async-io-python/), así que los métodos deben ir precedidos por la palabra `async` y las llamadas con `await`, que se encarga de lanzarlas y esperar sin bloquearse hasta que se obtiene el resultado.\n",
    "\n",
    "IMPORTANTE: asyncIO proporciona un esquema de programación concurrente, pero no es ejecución real en paralelo. Las rutinas definidas como asíncronas se deben suspender de forma explícita (con `sleep`) cuando se encuentran inactivas, dejando que otras tareas se ejecutan mientras tanto.\n",
    "\n",
    "El siguiente código define un agente que simplemente muestra un mensaje en la pantalla con su nombre. Se consigue sobreescribiendo el método `setup()` que se ejecuta cuando arranca el agente."
   ]
  },
  {
   "cell_type": "code",
   "execution_count": 1,
   "metadata": {
    "id": "hvfVHXKvCYGW"
   },
   "outputs": [],
   "source": [
    "import spade\n",
    "\n",
    "class DummyAgent(spade.agent.Agent):\n",
    "  async def setup(self):\n",
    "    print(\"Hello world! I'm agent {}\".format(str(self.jid)))"
   ]
  },
  {
   "cell_type": "markdown",
   "metadata": {
    "id": "0yg8WYqIFG7M"
   },
   "source": [
    "`jid` es el identificador con el que se registra en el servidor XMPP.\n",
    "\n",
    "Para crear el agent, hay que pasarle el nombre (sustituye la IP 127.0.0.1 por la del servidor XMPP o te dará un error de conexión) y un *password*. Para ejecutarlo usa `start()` y para detenerlo `stop()`."
   ]
  },
  {
   "cell_type": "code",
   "execution_count": 2,
   "metadata": {
    "colab": {
     "base_uri": "https://localhost:8080/",
     "height": 339
    },
    "id": "9aQ8g1cshxU5",
    "outputId": "c2622d64-c682-4e2e-ab48-f7e672f4690f"
   },
   "outputs": [
    {
     "name": "stdout",
     "output_type": "stream",
     "text": [
      "Hello world! I'm agent dummy@127.0.0.1\n",
      "Agent active: True\n",
      "stopping...\n",
      "Agent active: False\n"
     ]
    }
   ],
   "source": [
    "dummy = DummyAgent(\"dummy@127.0.0.1\", \"1234\")\n",
    "await dummy.start()\n",
    "print(\"Agent active: {}\".format(dummy.is_alive()))\n",
    "print(\"stopping...\")\n",
    "await dummy.stop()\n",
    "\n",
    "print(\"Agent active: {}\".format(dummy.is_alive()))"
   ]
  },
  {
   "cell_type": "markdown",
   "metadata": {},
   "source": [
    "## Agente con un comportamiento\n",
    "\n",
    "La forma natural de programar agentes en SPADE es utilizando comportamientos. Es la forma de definir la respuesta del agente ante determinados eventos. SPADE dispone de varios comportamientos predefinidos, que se pueden extender con nuevos comportamientos propios si es necesario.\n",
    "\n",
    "Uno de los más simples es el comportamiento cíclico, que se ejecuta de forma indefinida en bucle. El comportamiento tiene tres métodos especiales que se deben sobrecargar:\n",
    "\n",
    "- `on_start()` se emplea para la inicialización del comportamiento y se ejecuta una sola vez cuando arranca\n",
    "- `on_end()` se invoca cuando se detiene la ejecución del agente por completo (cuando se le \"mata\" o termina)\n",
    "- `run()` es el método principal en el que se codifica lo que debe hacer el agente en cada iteración del ciclo. Recuerda que debe ser una corrutina asíncrona\n",
    "\n",
    "Para usarlo, crea una clase comportamiento que herede de `CyclicBehaviour`. Por ejemplo, el siguiente comportamiento crea un contador y detiene el agente cuando llega a 5. En `on_start()` creamos el contador y lo inicializamos a cero. En `run()` se muestra su valor, se incrementa y se suspende el agente durante un segundo.\n",
    "\n",
    "Podemos suspender un comportamiento llamando a `kill()`. Ten en cuenta que esto solo detiene el comportamiento, no al agente completo.\n"
   ]
  },
  {
   "cell_type": "code",
   "execution_count": 4,
   "metadata": {},
   "outputs": [],
   "source": [
    "import asyncio\n",
    "import spade\n",
    "from spade import wait_until_finished\n",
    "from spade.agent import Agent\n",
    "from spade.behaviour import CyclicBehaviour\n",
    "\n",
    "class CycBehav(CyclicBehaviour):\n",
    "    async def on_start(self):\n",
    "        print(\"CycBehav starts\")\n",
    "        self.counter = 0\n",
    "        \n",
    "    async def run(self):\n",
    "        print(\"Counter: {}\".format(self.counter))\n",
    "        self.counter += 1\n",
    "        if self.counter == 5:\n",
    "            self.kill()\n",
    "        await asyncio.sleep(1)\n",
    "        \n",
    "    async def on_end(self):\n",
    "        print(\"CycBehav finished\")"
   ]
  },
  {
   "cell_type": "markdown",
   "metadata": {},
   "source": [
    "Para crear un agente que contenga ese comportamiento, lo añadiremos en el `setup()` del agente. Cuando el agente se ponga en marcha, activará automáticamente el comportamiento"
   ]
  },
  {
   "cell_type": "code",
   "execution_count": 5,
   "metadata": {},
   "outputs": [],
   "source": [
    "class CycAgent(Agent):\n",
    "    async def setup(self):\n",
    "        print(\"Adding cyclic behaviour...\")\n",
    "        b = CycBehav()\n",
    "        self.add_behaviour(b)\n",
    "        print(\"...done. Agent starting\")\n",
    "    "
   ]
  },
  {
   "cell_type": "markdown",
   "metadata": {},
   "source": [
    "En lugar de detenerlo, la función `wait_until_finished()` se queda esperando al agente hasta que termina el comportamiento especificado, o se le detiene desde fuera (con CTRL+C o kill directamente)"
   ]
  },
  {
   "cell_type": "code",
   "execution_count": 6,
   "metadata": {},
   "outputs": [
    {
     "name": "stdout",
     "output_type": "stream",
     "text": [
      "Adding cyclic behaviour...\n",
      "...done. Agent starting\n",
      "CycBehav starts\n",
      "Counter: 0\n",
      "Counter: 1\n",
      "Counter: 2\n",
      "Counter: 3\n",
      "Counter: 4\n",
      "CycBehav finished\n"
     ]
    },
    {
     "ename": "CancelledError",
     "evalue": "",
     "output_type": "error",
     "traceback": [
      "\u001b[31m---------------------------------------------------------------------------\u001b[39m",
      "\u001b[31mCancelledError\u001b[39m                            Traceback (most recent call last)",
      "\u001b[36mCell\u001b[39m\u001b[36m \u001b[39m\u001b[32mIn[6]\u001b[39m\u001b[32m, line 3\u001b[39m\n\u001b[32m      1\u001b[39m cyclic = CycAgent(\u001b[33m\"\u001b[39m\u001b[33mcyclic@127.0.0.1\u001b[39m\u001b[33m\"\u001b[39m, \u001b[33m\"\u001b[39m\u001b[33m1234\u001b[39m\u001b[33m\"\u001b[39m)\n\u001b[32m      2\u001b[39m \u001b[38;5;28;01mawait\u001b[39;00m cyclic.start()\n\u001b[32m----> \u001b[39m\u001b[32m3\u001b[39m \u001b[38;5;28;01mawait\u001b[39;00m wait_until_finished(cyclic)\n",
      "\u001b[36mFile \u001b[39m\u001b[32m~/.conda/envs/spade/lib/python3.12/site-packages/spade/__init__.py:27\u001b[39m, in \u001b[36mwait_until_finished\u001b[39m\u001b[34m(agents)\u001b[39m\n\u001b[32m     25\u001b[39m \u001b[38;5;28;01mtry\u001b[39;00m:\n\u001b[32m     26\u001b[39m     \u001b[38;5;28;01mwhile\u001b[39;00m \u001b[38;5;28many\u001b[39m([ag.is_alive() \u001b[38;5;28;01mfor\u001b[39;00m ag \u001b[38;5;129;01min\u001b[39;00m agents]):\n\u001b[32m---> \u001b[39m\u001b[32m27\u001b[39m         \u001b[38;5;28;01mawait\u001b[39;00m asyncio.sleep(\u001b[32m1\u001b[39m)\n\u001b[32m     28\u001b[39m \u001b[38;5;28;01mexcept\u001b[39;00m \u001b[38;5;167;01mKeyboardInterrupt\u001b[39;00m:\n\u001b[32m     29\u001b[39m     logger.warning(\u001b[33m\"\u001b[39m\u001b[33mKeyboard interrupt received. Stopping SPADE...\u001b[39m\u001b[33m\"\u001b[39m)\n",
      "\u001b[36mFile \u001b[39m\u001b[32m~/.conda/envs/spade/lib/python3.12/asyncio/tasks.py:655\u001b[39m, in \u001b[36msleep\u001b[39m\u001b[34m(delay, result)\u001b[39m\n\u001b[32m    651\u001b[39m h = loop.call_later(delay,\n\u001b[32m    652\u001b[39m                     futures._set_result_unless_cancelled,\n\u001b[32m    653\u001b[39m                     future, result)\n\u001b[32m    654\u001b[39m \u001b[38;5;28;01mtry\u001b[39;00m:\n\u001b[32m--> \u001b[39m\u001b[32m655\u001b[39m     \u001b[38;5;28;01mreturn\u001b[39;00m \u001b[38;5;28;01mawait\u001b[39;00m future\n\u001b[32m    656\u001b[39m \u001b[38;5;28;01mfinally\u001b[39;00m:\n\u001b[32m    657\u001b[39m     h.cancel()\n",
      "\u001b[31mCancelledError\u001b[39m: "
     ]
    }
   ],
   "source": [
    "cyclic = CycAgent(\"cyclic@127.0.0.1\", \"1234\")\n",
    "await cyclic.start()\n",
    "await wait_until_finished(cyclic)\n"
   ]
  },
  {
   "cell_type": "markdown",
   "metadata": {},
   "source": [
    "## Lanzamiento de agentes\n",
    "\n",
    "Es posible crear y lanzar a ejecución un agente desde otro. Esto nos permite, por ejemplo, crear equipos con un leader que los coordina. Para ello vamos a usar otro de los comportamientos básicos: `OneShotBehaviour`, que se lanza una sola vez.\n",
    "\n",
    "Para empezar, vamos a crear el agente"
   ]
  },
  {
   "cell_type": "code",
   "execution_count": 7,
   "metadata": {},
   "outputs": [],
   "source": [
    "import spade\n",
    "from spade.agent import Agent\n",
    "from spade.behaviour import OneShotBehaviour\n",
    "\n",
    "class SampleAgent(Agent):\n",
    "    async def setup(self):\n",
    "        print(f\"{self.jid} created.\")"
   ]
  },
  {
   "cell_type": "markdown",
   "metadata": {},
   "source": [
    "A continuación creamos el comportamiento OneShot que se encargará de crear y lanzar otro agente igual"
   ]
  },
  {
   "cell_type": "code",
   "execution_count": 8,
   "metadata": {},
   "outputs": [],
   "source": [
    "class LaunchBehav(OneShotBehaviour):\n",
    "    async def run(self):\n",
    "        agent2 = SampleAgent(\"follower@127.0.0.1\", \"1234\")\n",
    "        await agent2.start(auto_register=True)"
   ]
  },
  {
   "cell_type": "markdown",
   "metadata": {},
   "source": [
    "Y por último creamos el agente principal que incorpora ese  comportamiento. Cuando arranca, lanza al segundo agente."
   ]
  },
  {
   "cell_type": "code",
   "execution_count": 10,
   "metadata": {},
   "outputs": [
    {
     "name": "stdout",
     "output_type": "stream",
     "text": [
      "leader@127.0.01 created.\n",
      "follower@127.0.0.1 created.\n"
     ]
    }
   ],
   "source": [
    "leader = SampleAgent(\"leader@127.0.01\", \"1234\")\n",
    "behav = LaunchBehav()\n",
    "leader.add_behaviour(behav)\n",
    "await leader.start(auto_register=True)\n",
    "\n",
    "# wait until the behaviour is finished to quit spade.\n",
    "await behav.join()"
   ]
  },
  {
   "cell_type": "markdown",
   "metadata": {},
   "source": [
    "# Comunicación entre agentes\n",
    "\n",
    "Una de las características más importantes de los agentes es su capacidad de comunicarse. Los agentes SPADE implementan el protocolo de comunicaciones de FIPA y la forma de gestionar los mensajes es a través de *templates*: unas plantillas que nos facilitan la gestión de los mensajes por parte de los comportamientos. Los atributos de un mensaje son\n",
    "- to: el jid del receptor del mensaje\n",
    "- sender: el jid del agente que lo envia\n",
    "- body: el contenido del mensaje\n",
    "- thread: un id que identifica el hilo de la conversación (u nagente puede mantener varias conversaciones de manera simultánea)\n",
    "- metadata: un diccionario de pares (clave, valor) que incluye inofmración importante como la perfomrativa o la ontología que se está empleando.\n",
    "Cuando un agente esté esperando un tipo determinado de mensaje, creará una plantilla que concida con él y la registrará. La plataforma se encarga de avisarle cuando llegue un mensaje que coincida con la plantilla.\n",
    "\n",
    "Vamos a crear un comportamiento de tiempo OneShot para enviar un mensaje. Para eso, se crea una instancia de la clase `Message`, se rellena con la información y se envía con `send()` "
   ]
  },
  {
   "cell_type": "code",
   "execution_count": 11,
   "metadata": {},
   "outputs": [],
   "source": [
    "import spade\n",
    "from spade.agent import Agent\n",
    "from spade.behaviour import OneShotBehaviour\n",
    "from spade.message import Message\n",
    "from spade.template import Template\n",
    "\n",
    "\n",
    "class InformBehav(OneShotBehaviour):\n",
    "    async def run(self):\n",
    "        print(\"InformBehav running\")\n",
    "        msg = Message(to=\"receiver@127.0.0.1\")     # Instantiate the message\n",
    "        msg.set_metadata(\"performative\", \"inform\")  # Set the \"inform\" FIPA performative\n",
    "        msg.body = \"Hello World\"                    # Set the message content\n",
    "\n",
    "        await self.send(msg)\n",
    "        print(\"Message sent!\")\n",
    "\n",
    "        # set exit_code for the behaviour\n",
    "        self.exit_code = \"Job Finished!\"\n",
    "\n",
    "        # stop agent from behaviour\n",
    "        await self.agent.stop()\n",
    "        \n",
    "        \n",
    "class SenderAgent(Agent):\n",
    "    async def setup(self):\n",
    "        print(\"SenderAgent started\")\n",
    "        self.b = InformBehav()\n",
    "        self.add_behaviour(self.b)"
   ]
  },
  {
   "cell_type": "markdown",
   "metadata": {},
   "source": [
    "El comportamiento para recibirlos es el recíproco, quedándose a la espera en un método `receive()`"
   ]
  },
  {
   "cell_type": "code",
   "execution_count": 12,
   "metadata": {},
   "outputs": [],
   "source": [
    "\n",
    "class RecvBehav(OneShotBehaviour):\n",
    "    async def run(self):\n",
    "        print(\"RecvBehav running\")\n",
    "\n",
    "        msg = await self.receive(timeout=10) # wait for a message for 10 seconds\n",
    "        if msg:\n",
    "            print(\"Message received with content: {}\".format(msg.body))\n",
    "        else:\n",
    "            print(\"Did not received any message after 10 seconds\")\n",
    "\n",
    "        # stop agent from behaviour\n",
    "        await self.agent.stop()\n",
    "        \n",
    "        \n",
    "class ReceiverAgent(Agent):\n",
    "    async def setup(self):\n",
    "        print(\"ReceiverAgent started\")\n",
    "        b = RecvBehav()\n",
    "        template = Template()\n",
    "        # here defines the template with the type of message it expects (an inform)\n",
    "        template.set_metadata(\"performative\", \"inform\")\n",
    "        self.add_behaviour(b, template)"
   ]
  },
  {
   "cell_type": "markdown",
   "metadata": {},
   "source": [
    "Solo queda crear los dos agentes. Cuando se inicien, automáticamente se activará el comportamiento para intercambiar un mensaje"
   ]
  },
  {
   "cell_type": "code",
   "execution_count": 13,
   "metadata": {},
   "outputs": [
    {
     "name": "stdout",
     "output_type": "stream",
     "text": [
      "ReceiverAgent started\n",
      "Receiver started\n",
      "RecvBehav running\n",
      "SenderAgent started\n",
      "Sender started\n",
      "InformBehav running\n",
      "Message sent!\n",
      "Message received with content: Hello World\n",
      "Agents finished\n"
     ]
    }
   ],
   "source": [
    "receiveragent = ReceiverAgent(\"receiver@127.0.0.1\", \"1234\")\n",
    "await receiveragent.start(auto_register=True)\n",
    "print(\"Receiver started\")\n",
    "\n",
    "senderagent = SenderAgent(\"sender@127.0.0.1\", \"1234\")\n",
    "await senderagent.start(auto_register=True)\n",
    "print(\"Sender started\")\n",
    "\n",
    "await spade.wait_until_finished(receiveragent)\n",
    "print(\"Agents finished\")"
   ]
  },
  {
   "cell_type": "markdown",
   "metadata": {},
   "source": [
    "Si un agente quiere responder a otro, el método `make_reply()` de la clase Message se encarga de formatar directamente un mensaje de respuesta y solo hace falta rellenar el contenido o los campos que el agente necesite completar. "
   ]
  },
  {
   "cell_type": "code",
   "execution_count": null,
   "metadata": {},
   "outputs": [],
   "source": [
    "class ReceiveBehaviour(OneShotBehaviour):\n",
    "    async def run(self):\n",
    "        msg = await self.receive(timeout=10)\n",
    "        if msg:\n",
    "            reply = msg.make_reply()\n",
    "            reply.body = \"my reply\"\n",
    "            await self.send(reply)\n"
   ]
  },
  {
   "cell_type": "markdown",
   "metadata": {},
   "source": [
    "# Ejercicio 1\n",
    "\n",
    "Crea un agente que proponga a otros tres que le envíen un dato (un núnero entero) y el agente que lo propuso simplement elos guarda en una lista y los imprime. Usa una performativa de tipo \"propose\" (el cuerpo del mensaje de la propuesta no es relevante en este caso)"
   ]
  },
  {
   "cell_type": "code",
   "execution_count": null,
   "metadata": {},
   "outputs": [],
   "source": [
    "#TODO: Añade tu código"
   ]
  },
  {
   "cell_type": "markdown",
   "metadata": {},
   "source": [
    "# SPADE-BDI\n",
    "\n",
    "Con SPADE es posible crear agentes que siguen la arquitectura BDI. Está desarrollado como un plugin. Al instalarse ya incluye una plataforma SPADE completa, por lo que si vas a usar este tipo de agentes puedes instalar directamente esta versión"
   ]
  },
  {
   "cell_type": "code",
   "execution_count": null,
   "metadata": {},
   "outputs": [],
   "source": [
    "!pip install spade_bdi"
   ]
  },
  {
   "cell_type": "markdown",
   "metadata": {},
   "source": [
    "Aunque se pueden añadir las creencias y el resto de elementos de al arquitectura usando sus correspondientes métodos, lo habitual es cargar un ficehro .asl que contenga el código en lenguaje AgentSpeak. \n",
    "\n",
    "Por ejemplo, vamos a generar un fichero que contiene las reglas para un hola mundo"
   ]
  },
  {
   "cell_type": "code",
   "execution_count": 14,
   "metadata": {},
   "outputs": [],
   "source": [
    "with open('hello.asl', 'w') as fp:\n",
    "    fp.write('!hello_world.\\n')\n",
    "    fp.write('+!hello_world <-\\n')\n",
    "    fp.write('    .print(\"Hello world!\").\\n')"
   ]
  },
  {
   "cell_type": "code",
   "execution_count": 15,
   "metadata": {},
   "outputs": [
    {
     "name": "stdout",
     "output_type": "stream",
     "text": [
      "!hello_world.\n",
      "+!hello_world <-\n",
      "    .print(\"Hello world!\").\n"
     ]
    }
   ],
   "source": [
    "!cat hello.asl"
   ]
  },
  {
   "cell_type": "markdown",
   "metadata": {},
   "source": [
    "Los agentes extendrán la clase BDIAgent, y en su creación habrá que indicar el fichero .asl que contiene su especificaicón"
   ]
  },
  {
   "cell_type": "code",
   "execution_count": 16,
   "metadata": {},
   "outputs": [
    {
     "name": "stdout",
     "output_type": "stream",
     "text": [
      "hello@127.0.0.1 Hello world!\n",
      "Agent ready\n"
     ]
    }
   ],
   "source": [
    "import asyncio\n",
    "import spade\n",
    "from spade_bdi.bdi import BDIAgent\n",
    "\n",
    "a = BDIAgent(\"hello@127.0.0.1\", \"1234\", \"hello.asl\")\n",
    "await a.start()\n",
    "#sleep the agent to let the rule to execute\n",
    "await asyncio.sleep(1)\n",
    "print(\"Agent ready\")\n",
    "await a.stop()   "
   ]
  },
  {
   "cell_type": "markdown",
   "metadata": {},
   "source": [
    "## Gestión de creencias\n",
    "\n",
    "SPADE-BDI proporciona algunos métodos para revisar las creencias de los agentes, y también para añadir nuevas o eliminarlas."
   ]
  },
  {
   "cell_type": "code",
   "execution_count": 17,
   "metadata": {},
   "outputs": [],
   "source": [
    "with open('car.asl', 'w') as fp:\n",
    "    fp.write('!start.\\n')\n",
    "    fp.write('+!start <-\\n')\n",
    "    fp.write('    +car(red);\\n')\n",
    "    fp.write('    +truck(blue).\\n')\n",
    "\n",
    "    fp.write('+car(Color)\\n') \n",
    "    fp.write('    <- .print(\"The car is \",Color).!start.\\n')"
   ]
  },
  {
   "cell_type": "code",
   "execution_count": 18,
   "metadata": {},
   "outputs": [
    {
     "name": "stdout",
     "output_type": "stream",
     "text": [
      "car@127.0.0.1 The car is  red\n",
      "car@127.0.0.1 The car is  red\n",
      "Comenzando a interactuar con el comportamiento BDI del agente ... \n",
      "car(red)\n",
      "truck(blue)\n",
      "car(blue, big)\n",
      "GETTING FIRST CAR BELIEF\n",
      "Primera Creencia de tipo car:  car(red)\n",
      "car(red)\n",
      "truck(blue)\n",
      "car(blue, big)\n",
      "car(red)\n",
      "truck(blue)\n",
      "car(blue, big)\n",
      "['car(red)', 'truck(blue)', 'car(blue, big)']\n"
     ]
    }
   ],
   "source": [
    "import asyncio\n",
    "import time\n",
    "import spade\n",
    "from spade_bdi.bdi import BDIAgent\n",
    "\n",
    "a = BDIAgent(\"car@127.0.0.1\", \"1234\", \"car.asl\")\n",
    "await a.start()\n",
    "await asyncio.sleep(1)\n",
    "\n",
    "print(\"Comenzando a interactuar con el comportamiento BDI del agente ... \");\n",
    "# add a new belief\n",
    "a.bdi.set_belief(\"car\", \"blue\", \"big\")\n",
    "await asyncio.sleep(1) #gives time to update belief set (comment and check the result)\n",
    "\n",
    "# shows the belief set of the agent              \n",
    "a.bdi.print_beliefs()\n",
    "print(\"GETTING FIRST CAR BELIEF\")\n",
    "print(\"Primera Creencia de tipo car: \", a.bdi.get_belief(\"car\"))\n",
    "a.bdi.print_beliefs()\n",
    "# removes a belief\n",
    "a.bdi.remove_belief(\"car\", 'blue', \"big\")\n",
    "#without delay to remove the belief\n",
    "a.bdi.print_beliefs()\n",
    "print(a.bdi.get_beliefs())\n",
    "a.bdi.set_belief(\"car\", 'yellow')\n",
    "\n",
    "time.sleep(1)\n",
    "await a.stop()   "
   ]
  },
  {
   "cell_type": "markdown",
   "metadata": {},
   "source": [
    "## Creación de acciones internas\n",
    "\n",
    "Además de las acciones predefinias que incorpora AgentSpeak, podemos escribir nuestras propias  funciones en python y utilizarlas desde los planes "
   ]
  },
  {
   "cell_type": "code",
   "execution_count": 1,
   "metadata": {},
   "outputs": [],
   "source": [
    "with open('actions.asl', 'w') as fp:\n",
    "    fp.write('!start.\\n')\n",
    "    fp.write('+!start <-\\n')\n",
    "    fp.write('    .my_function(4, R);\\n')\n",
    "    fp.write('    .my_action(R).\\n')"
   ]
  },
  {
   "cell_type": "markdown",
   "metadata": {},
   "source": [
    "Hay dos funciones .my_function y .my_action que vamos a implementar directamente como métodos del agente"
   ]
  },
  {
   "cell_type": "code",
   "execution_count": 2,
   "metadata": {},
   "outputs": [],
   "source": [
    "import asyncio\n",
    "import argparse\n",
    "import agentspeak\n",
    "import spade\n",
    "from spade_bdi.bdi import BDIAgent\n",
    "\n",
    "\n",
    "class MyCustomBDIAgent(BDIAgent):\n",
    "    def add_custom_actions(self, actions):\n",
    "        \n",
    "        @actions.add_function(\".my_function\", (int,))\n",
    "        def _my_function(x):\n",
    "            return x * x\n",
    "\n",
    "        @actions.add(\".my_action\", 1)\n",
    "        def _my_action(agent, term, intention):\n",
    "            arg = agentspeak.grounded(term.args[0], intention.scope)\n",
    "            print(arg)\n",
    "            yield"
   ]
  },
  {
   "cell_type": "code",
   "execution_count": 3,
   "metadata": {},
   "outputs": [
    {
     "name": "stdout",
     "output_type": "stream",
     "text": [
      "16\n"
     ]
    }
   ],
   "source": [
    "a = MyCustomBDIAgent(\"actions@127.0.0.1\", \"1234\", \"actions.asl\")\n",
    "\n",
    "await a.start()\n",
    "await asyncio.sleep(2)\n",
    "await a.stop()"
   ]
  },
  {
   "cell_type": "markdown",
   "metadata": {},
   "source": [
    "## Interfaz web para la monitorización\n",
    "\n",
    "SPADE puoede generar una págian web que permite la monitorización en tiempo real de los agentes. Basta con indicarle la dirección de la máquina y el puerto al que conectarse. La web estará diponible en la url `ip:puerto/spade`"
   ]
  },
  {
   "cell_type": "code",
   "execution_count": 4,
   "metadata": {},
   "outputs": [],
   "source": [
    "import asyncio\n",
    "import argparse\n",
    "import agentspeak\n",
    "import spade\n",
    "from spade_bdi.bdi import BDIAgent\n",
    "\n",
    "ag = MyCustomBDIAgent(\"bdi@127.0.0.1\",\"1234\",\"actions.asl\")\n",
    "await a.start()\n",
    "\n",
    "#version web\n",
    "a.web.start(hostname=\"127.0.0.1\",port=\"10000\")\n",
    "await asyncio.sleep(2000)\n",
    "await a.stop()"
   ]
  },
  {
   "cell_type": "markdown",
   "metadata": {},
   "source": [
    "La interfaz del agente está disponible en http://127.0.0.1:10000/spade"
   ]
  },
  {
   "cell_type": "markdown",
   "metadata": {},
   "source": [
    "## Ejercicio 2\n",
    "\n",
    "Incorpora la interfaz web a los agentes que intercambian mensajes del ejercicio 1 y comrpueba su funcionamiento"
   ]
  },
  {
   "cell_type": "code",
   "execution_count": null,
   "metadata": {},
   "outputs": [],
   "source": [
    "#TODO: añade tu código"
   ]
  },
  {
   "cell_type": "markdown",
   "metadata": {},
   "source": [
    "## Ejercicio 3\n",
    "\n",
    "Implementa con SPADE-BDI agentes con el código de AgentSpeak de los ejercicios planteados (factorial o el robot limpiador"
   ]
  },
  {
   "cell_type": "code",
   "execution_count": null,
   "metadata": {},
   "outputs": [],
   "source": [
    "#TODO: añade tu código"
   ]
  }
 ],
 "metadata": {
  "colab": {
   "provenance": []
  },
  "kernelspec": {
   "display_name": "Python 3 (ipykernel)",
   "language": "python",
   "name": "python3"
  },
  "language_info": {
   "codemirror_mode": {
    "name": "ipython",
    "version": 3
   },
   "file_extension": ".py",
   "mimetype": "text/x-python",
   "name": "python",
   "nbconvert_exporter": "python",
   "pygments_lexer": "ipython3",
   "version": "3.12.0"
  }
 },
 "nbformat": 4,
 "nbformat_minor": 4
}
